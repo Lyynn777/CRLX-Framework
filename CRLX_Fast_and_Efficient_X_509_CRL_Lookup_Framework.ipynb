{
  "nbformat": 4,
  "nbformat_minor": 0,
  "metadata": {
    "colab": {
      "provenance": [],
      "authorship_tag": "ABX9TyOA4RPLdggQRennA4ppLqcb",
      "include_colab_link": true
    },
    "kernelspec": {
      "name": "python3",
      "display_name": "Python 3"
    },
    "language_info": {
      "name": "python"
    }
  },
  "cells": [
    {
      "cell_type": "markdown",
      "metadata": {
        "id": "view-in-github",
        "colab_type": "text"
      },
      "source": [
        "<a href=\"https://colab.research.google.com/github/Lyynn777/CRLX-Framework/blob/main/CRLX_Fast_and_Efficient_X_509_CRL_Lookup_Framework.ipynb\" target=\"_parent\"><img src=\"https://colab.research.google.com/assets/colab-badge.svg\" alt=\"Open In Colab\"/></a>"
      ]
    },
    {
      "cell_type": "markdown",
      "source": [
        "**Title & Setup**"
      ],
      "metadata": {
        "id": "UkwbApvIFzfb"
      }
    },
    {
      "cell_type": "code",
      "execution_count": null,
      "metadata": {
        "colab": {
          "base_uri": "https://localhost:8080/"
        },
        "id": "UWYBdrOtCNZL",
        "outputId": "d2f9307a-df22-47e6-bdcf-a5b22dc06bde"
      },
      "outputs": [
        {
          "output_type": "stream",
          "name": "stdout",
          "text": [
            "CRLX — X.509 CRL Acceleration Framework\n",
            "Cell 1: Environment setup — packages installed.\n",
            "Date/Time (UTC): 2025-10-21T14:04:54.895104+00:00\n"
          ]
        }
      ],
      "source": [
        "# Install required packages (kept minimal & Colab-friendly)\n",
        "# - cryptography: parse CRLs\n",
        "# - asn1crypto: optional ASN.1 helpers\n",
        "# - pandas: tabular metrics\n",
        "# - plotly: inline interactive plots (renders well in Colab)\n",
        "# - requests: HTTP fetching\n",
        "# - tqdm: progress bars\n",
        "# Note: installing in Colab may take ~1-2 minutes.\n",
        "!pip install --quiet cryptography asn1crypto pandas plotly requests tqdm\n",
        "\n",
        "# Short header / metadata (rendered as plain output)\n",
        "from datetime import datetime\n",
        "print(\"CRLX — X.509 CRL Acceleration Framework\")\n",
        "print(\"Cell 1: Environment setup — packages installed.\")\n",
        "print(\"Date/Time (UTC):\", datetime.now(timezone.utc).isoformat())\n"
      ]
    },
    {
      "cell_type": "markdown",
      "source": [
        "**Imports & Directory Setup**"
      ],
      "metadata": {
        "id": "vgSW-GUiFt2p"
      }
    },
    {
      "cell_type": "code",
      "source": [
        "import os\n",
        "import hashlib\n",
        "import json\n",
        "import random\n",
        "import pandas as pd\n",
        "import plotly.express as px\n",
        "import plotly.graph_objects as go\n",
        "import datetime\n",
        "from cryptography import x509\n",
        "from cryptography.hazmat.primitives import hashes, serialization\n",
        "from cryptography.hazmat.backends import default_backend\n",
        "from cryptography.x509.oid import NameOID\n",
        "from cryptography.hazmat.primitives.asymmetric import rsa\n",
        "from tqdm import tqdm\n",
        "\n",
        "# Define project directories\n",
        "BASE_DIR = \"/content/crlx\"\n",
        "DIRS = {\n",
        "    \"certs\": os.path.join(BASE_DIR, \"certs\"),\n",
        "    \"crls\": os.path.join(BASE_DIR, \"crls\"),\n",
        "    \"cache\": os.path.join(BASE_DIR, \"cache\"),\n",
        "    \"logs\": os.path.join(BASE_DIR, \"logs\"),\n",
        "}\n",
        "\n",
        "# Create directories if they don't exist\n",
        "for name, path in DIRS.items():\n",
        "    os.makedirs(path, exist_ok=True)\n",
        "    print(f\"[+] {name} directory ready at {path}\")\n",
        "\n",
        "print(\"\\nProject directories initialized successfully.\")\n",
        "print(\"Timestamp (UTC):\", datetime.datetime.now(datetime.timezone.utc).isoformat())\n"
      ],
      "metadata": {
        "colab": {
          "base_uri": "https://localhost:8080/"
        },
        "id": "bm32b2UwCoqs",
        "outputId": "3ee34983-8653-4046-a9f2-c3d7b16a69a0"
      },
      "execution_count": null,
      "outputs": [
        {
          "output_type": "stream",
          "name": "stdout",
          "text": [
            "[+] certs directory ready at /content/crlx/certs\n",
            "[+] crls directory ready at /content/crlx/crls\n",
            "[+] cache directory ready at /content/crlx/cache\n",
            "[+] logs directory ready at /content/crlx/logs\n",
            "\n",
            "Project directories initialized successfully.\n",
            "Timestamp (UTC): 2025-10-21T14:05:21.049047+00:00\n"
          ]
        }
      ]
    },
    {
      "cell_type": "markdown",
      "source": [
        "**Generate Synthetic Certificates & CRLs**"
      ],
      "metadata": {
        "id": "eXRD2kUTH11U"
      }
    },
    {
      "cell_type": "code",
      "source": [
        "# ==========================================================\n",
        "# CRLX — X.509 CRL Acceleration Framework\n",
        "# Cell 3: Generate Synthetic Certificates & CRLs\n",
        "# ==========================================================\n",
        "\n",
        "def create_self_signed_cert_and_crl(cert_path, crl_path, common_name):\n",
        "    \"\"\"Generates a self-signed certificate and a dummy CRL.\"\"\"\n",
        "    # Generate RSA private key\n",
        "    key = rsa.generate_private_key(public_exponent=65537, key_size=2048)\n",
        "\n",
        "    # Certificate subject and issuer (self-signed)\n",
        "    subject = issuer = x509.Name([\n",
        "        x509.NameAttribute(NameOID.COUNTRY_NAME, \"IN\"),\n",
        "        x509.NameAttribute(NameOID.STATE_OR_PROVINCE_NAME, \"Karnataka\"),\n",
        "        x509.NameAttribute(NameOID.LOCALITY_NAME, \"Bengaluru\"),\n",
        "        x509.NameAttribute(NameOID.ORGANIZATION_NAME, \"CRLX Framework\"),\n",
        "        x509.NameAttribute(NameOID.COMMON_NAME, common_name),\n",
        "    ])\n",
        "\n",
        "    # Build certificate\n",
        "    cert = (\n",
        "        x509.CertificateBuilder()\n",
        "        .subject_name(subject)\n",
        "        .issuer_name(issuer)\n",
        "        .public_key(key.public_key())\n",
        "        .serial_number(x509.random_serial_number())\n",
        "        .not_valid_before(datetime.datetime.now(datetime.timezone.utc))\n",
        "        .not_valid_after(datetime.datetime.now(datetime.timezone.utc) + datetime.timedelta(days=365))\n",
        "        .add_extension(x509.BasicConstraints(ca=True, path_length=None), critical=True)\n",
        "        .sign(key, hashes.SHA256())\n",
        "    )\n",
        "\n",
        "    # Create dummy CRL with one revoked certificate\n",
        "    revoked_cert = (\n",
        "        x509.RevokedCertificateBuilder()\n",
        "        .serial_number(x509.random_serial_number())\n",
        "        .revocation_date(datetime.datetime.now(datetime.timezone.utc))\n",
        "        .build(default_backend())\n",
        "    )\n",
        "\n",
        "    crl = (\n",
        "        x509.CertificateRevocationListBuilder()\n",
        "        .issuer_name(issuer)\n",
        "        .last_update(datetime.datetime.now(datetime.timezone.utc))\n",
        "        .next_update(datetime.datetime.now(datetime.timezone.utc) + datetime.timedelta(days=30))\n",
        "        .add_revoked_certificate(revoked_cert)\n",
        "        .sign(private_key=key, algorithm=hashes.SHA256())\n",
        "    )\n",
        "\n",
        "    # Save CRL\n",
        "    with open(crl_path, \"wb\") as f:\n",
        "        f.write(crl.public_bytes(serialization.Encoding.PEM))\n",
        "\n",
        "    print(f\"[+] Generated cert and CRL for {common_name}\")\n",
        "\n",
        "\n",
        "# Generate 3 test certificates & CRLs\n",
        "for i in range(1, 4):\n",
        "    cert_file = os.path.join(DIRS[\"certs\"], f\"test_cert_{i}.pem\")\n",
        "    crl_file = os.path.join(DIRS[\"crls\"], f\"test_crl_{i}.pem\")\n",
        "    create_self_signed_cert_and_crl(cert_file, crl_file, f\"TestCert-{i}\")\n",
        "\n",
        "print(\"\\nSynthetic certificates and CRLs generated successfully.\")\n",
        "print(\"Timestamp (UTC):\", datetime.datetime.now(datetime.timezone.utc).isoformat())"
      ],
      "metadata": {
        "colab": {
          "base_uri": "https://localhost:8080/"
        },
        "id": "CPkRf6XnCzlG",
        "outputId": "5193761e-85c6-48f9-fb34-167379b2ded0"
      },
      "execution_count": null,
      "outputs": [
        {
          "output_type": "stream",
          "name": "stdout",
          "text": [
            "[+] Generated cert and CRL for TestCert-1\n",
            "[+] Generated cert and CRL for TestCert-2\n",
            "[+] Generated cert and CRL for TestCert-3\n",
            "\n",
            "Synthetic certificates and CRLs generated successfully.\n",
            "Timestamp (UTC): 2025-10-21T14:16:44.349902+00:00\n"
          ]
        }
      ]
    },
    {
      "cell_type": "markdown",
      "source": [
        "**Parse & Index CRLs**"
      ],
      "metadata": {
        "id": "skDbUD-_IdJF"
      }
    },
    {
      "cell_type": "code",
      "source": [
        "# ==========================================================\n",
        "# CRLX — X.509 CRL Acceleration Framework\n",
        "# Cell 4: Parse & Index CRLs\n",
        "# ==========================================================\n",
        "\n",
        "def parse_crl_file(crl_path):\n",
        "    \"\"\"Parse a CRL and return structured info.\"\"\"\n",
        "    with open(crl_path, \"rb\") as f:\n",
        "        crl_data = x509.load_pem_x509_crl(f.read(), default_backend())\n",
        "\n",
        "    revoked_info = []\n",
        "    for revoked in crl_data:\n",
        "        revoked_info.append({\n",
        "            \"serial_number\": hex(revoked.serial_number),\n",
        "            \"revocation_date\": revoked.revocation_date_utc.isoformat(),\n",
        "        })\n",
        "\n",
        "    return {\n",
        "        \"issuer\": crl_data.issuer.rfc4514_string(),\n",
        "        \"last_update\": crl_data.last_update_utc.isoformat(),\n",
        "        \"next_update\": crl_data.next_update_utc.isoformat(),\n",
        "        \"revoked_count\": len(revoked_info),\n",
        "        \"revoked_list\": revoked_info\n",
        "    }\n",
        "\n",
        "# Parse all CRLs and create accelerated index\n",
        "crl_index = {}\n",
        "for crl_file in os.listdir(DIRS[\"crls\"]):\n",
        "    crl_path = os.path.join(DIRS[\"crls\"], crl_file)\n",
        "    crl_index[crl_file] = parse_crl_file(crl_path)\n",
        "\n",
        "# Cache parsed index\n",
        "cache_file = os.path.join(DIRS[\"cache\"], \"crl_index.json\")\n",
        "with open(cache_file, \"w\") as f:\n",
        "    json.dump(crl_index, f, indent=4)\n",
        "\n",
        "print(f\"[+] Indexed {len(crl_index)} CRLs successfully.\")\n",
        "print(f\"Cache saved at: {cache_file}\")\n",
        "print(\"Timestamp (UTC):\", datetime.datetime.now(datetime.timezone.utc).isoformat())\n"
      ],
      "metadata": {
        "colab": {
          "base_uri": "https://localhost:8080/"
        },
        "id": "oFWYIpgsC-tq",
        "outputId": "ea351aa6-c64d-47f1-82f4-fd94d9bb008c"
      },
      "execution_count": null,
      "outputs": [
        {
          "output_type": "stream",
          "name": "stdout",
          "text": [
            "[+] Indexed 3 CRLs successfully.\n",
            "Cache saved at: /content/crlx/cache/crl_index.json\n",
            "Timestamp (UTC): 2025-10-21T14:17:17.694157+00:00\n"
          ]
        }
      ]
    },
    {
      "cell_type": "markdown",
      "source": [
        "**Accelerated Lookup & Benchmarking**"
      ],
      "metadata": {
        "id": "e2vNtfxLMObW"
      }
    },
    {
      "cell_type": "code",
      "source": [
        "import time\n",
        "\n",
        "# Build accelerated hash index\n",
        "accelerated_index = set()\n",
        "for crl_data in crl_index.values():\n",
        "    for entry in crl_data[\"revoked_list\"]:\n",
        "        accelerated_index.add(entry[\"serial_number\"])\n",
        "\n",
        "print(f\"[+] Accelerated index built with {len(accelerated_index)} serials.\")\n",
        "\n",
        "# Prepare test serials (2 revoked, 2 random not revoked)\n",
        "test_samples = list(accelerated_index)[:2]  # known revoked\n",
        "test_samples += [hex(random.getrandbits(64)) for _ in range(2)]  # random not revoked\n",
        "\n",
        "def legacy_lookup(serial):\n",
        "    start = time.perf_counter()\n",
        "    found = any(\n",
        "        serial == entry[\"serial_number\"]\n",
        "        for crl in crl_index.values()\n",
        "        for entry in crl[\"revoked_list\"]\n",
        "    )\n",
        "    latency = (time.perf_counter() - start) * 1e6  # µs\n",
        "    return found, latency\n",
        "\n",
        "def accelerated_lookup(serial):\n",
        "    start = time.perf_counter()\n",
        "    found = serial in accelerated_index\n",
        "    latency = (time.perf_counter() - start) * 1e6  # µs\n",
        "    return found, latency\n",
        "\n",
        "# Run benchmarks\n",
        "results = []\n",
        "for s in test_samples:\n",
        "    f1, l1 = legacy_lookup(s)\n",
        "    f2, l2 = accelerated_lookup(s)\n",
        "    results.append({\n",
        "        \"serial\": s,\n",
        "        \"legacy_found\": f1,\n",
        "        \"legacy_latency_µs\": round(l1, 3),\n",
        "        \"crlx_found\": f2,\n",
        "        \"crlx_latency_µs\": round(l2, 3),\n",
        "        \"speedup_x\": round(l1 / l2 if l2 > 0 else 0, 2)\n",
        "    })\n",
        "\n",
        "# Convert to DataFrame for visualization\n",
        "df_results = pd.DataFrame(results)\n",
        "print(df_results.to_string(index=False))\n"
      ],
      "metadata": {
        "colab": {
          "base_uri": "https://localhost:8080/"
        },
        "id": "6xPphdEaDNyd",
        "outputId": "59721819-3ea2-4d13-9dbf-c551b6987d87"
      },
      "execution_count": null,
      "outputs": [
        {
          "output_type": "stream",
          "name": "stdout",
          "text": [
            "[+] Accelerated index built with 3 serials.\n",
            "                                    serial  legacy_found  legacy_latency_µs  crlx_found  crlx_latency_µs  speedup_x\n",
            "0x15420139c98d1b47d0fc6d2b1db1e5d4d53df01e          True              6.151        True            0.344      17.88\n",
            " 0xd2bdd7f727819ec282c7ef1705eb660fde45656          True              4.491        True            0.258      17.41\n",
            "                        0xcc2ffd90089fe99e         False              1.906       False            0.330       5.78\n",
            "                        0xbbed777bf0e1fa42         False              1.113       False            0.218       5.11\n"
          ]
        }
      ]
    },
    {
      "cell_type": "markdown",
      "source": [
        "**Visualization Dashboard**"
      ],
      "metadata": {
        "id": "Ub_oUXByM-ra"
      }
    },
    {
      "cell_type": "code",
      "source": [
        "# Latency comparison bar chart\n",
        "df_plot = df_results.melt(\n",
        "    id_vars=[\"serial\"],\n",
        "    value_vars=[\"legacy_latency_µs\", \"crlx_latency_µs\"],\n",
        "    var_name=\"Method\", value_name=\"Latency_µs\"\n",
        ")\n",
        "\n",
        "fig_latency = px.bar(\n",
        "    df_plot,\n",
        "    x=\"serial\",\n",
        "    y=\"Latency_µs\",\n",
        "    color=\"Method\",\n",
        "    barmode=\"group\",\n",
        "    title=\"CRL Lookup Latency: Legacy vs CRLX\",\n",
        "    text=\"Latency_µs\"\n",
        ")\n",
        "fig_latency.update_traces(texttemplate=\"%{text:.2f}\", textposition=\"outside\")\n",
        "fig_latency.show()\n",
        "\n",
        "# Speedup gauge chart\n",
        "average_speedup = df_results[\"speedup_x\"].mean()\n",
        "fig_gauge = go.Figure(go.Indicator(\n",
        "    mode=\"gauge+number\",\n",
        "    value=average_speedup,\n",
        "    title={'text': \"Average Speedup (X times)\"},\n",
        "    gauge={'axis': {'range': [0, max(20, average_speedup*1.5)]}}\n",
        "))\n",
        "fig_gauge.show()\n",
        "\n",
        "# Staleness indicator (days until next update)\n",
        "next_updates = [\n",
        "    datetime.datetime.fromisoformat(crl_index[crl][\"next_update\"])\n",
        "    for crl in crl_index\n",
        "]\n",
        "days_to_next_update = [(nu - datetime.datetime.now(datetime.timezone.utc)).days for nu in next_updates]\n",
        "print(f\"⚠️ CRL Staleness Window (days): {days_to_next_update}\")\n",
        "\n",
        "# Summary table\n",
        "summary = {\n",
        "    \"Total CRLs\": len(crl_index),\n",
        "    \"Total Revoked Certificates\": sum(crl['revoked_count'] for crl in crl_index.values()),\n",
        "    \"Cached Index Size (bytes)\": os.path.getsize(cache_file),\n",
        "    \"Average Lookup Speedup (X)\": round(average_speedup, 2)\n",
        "}\n",
        "df_summary = pd.DataFrame([summary])\n",
        "print(\"\\n--- Summary Table ---\")\n",
        "print(df_summary.to_string(index=False))\n"
      ],
      "metadata": {
        "colab": {
          "base_uri": "https://localhost:8080/",
          "height": 1000
        },
        "id": "7Qc1qiQ7DXHd",
        "outputId": "e3816128-3645-439c-b660-906c967d4898"
      },
      "execution_count": null,
      "outputs": [
        {
          "output_type": "display_data",
          "data": {
            "text/html": [
              "<html>\n",
              "<head><meta charset=\"utf-8\" /></head>\n",
              "<body>\n",
              "    <div>            <script src=\"https://cdnjs.cloudflare.com/ajax/libs/mathjax/2.7.5/MathJax.js?config=TeX-AMS-MML_SVG\"></script><script type=\"text/javascript\">if (window.MathJax && window.MathJax.Hub && window.MathJax.Hub.Config) {window.MathJax.Hub.Config({SVG: {font: \"STIX-Web\"}});}</script>                <script type=\"text/javascript\">window.PlotlyConfig = {MathJaxConfig: 'local'};</script>\n",
              "        <script charset=\"utf-8\" src=\"https://cdn.plot.ly/plotly-2.35.2.min.js\"></script>                <div id=\"ef0c9dd4-76b3-4fa7-a3a8-538f2eb32d55\" class=\"plotly-graph-div\" style=\"height:525px; width:100%;\"></div>            <script type=\"text/javascript\">                                    window.PLOTLYENV=window.PLOTLYENV || {};                                    if (document.getElementById(\"ef0c9dd4-76b3-4fa7-a3a8-538f2eb32d55\")) {                    Plotly.newPlot(                        \"ef0c9dd4-76b3-4fa7-a3a8-538f2eb32d55\",                        [{\"alignmentgroup\":\"True\",\"hovertemplate\":\"Method=legacy_latency_µs\\u003cbr\\u003eserial=%{x}\\u003cbr\\u003eLatency_µs=%{text}\\u003cextra\\u003e\\u003c\\u002fextra\\u003e\",\"legendgroup\":\"legacy_latency_µs\",\"marker\":{\"color\":\"#636efa\",\"pattern\":{\"shape\":\"\"}},\"name\":\"legacy_latency_µs\",\"offsetgroup\":\"legacy_latency_µs\",\"orientation\":\"v\",\"showlegend\":true,\"text\":[6.151,4.491,1.906,1.113],\"textposition\":\"outside\",\"x\":[\"0x15420139c98d1b47d0fc6d2b1db1e5d4d53df01e\",\"0xd2bdd7f727819ec282c7ef1705eb660fde45656\",\"0xcc2ffd90089fe99e\",\"0xbbed777bf0e1fa42\"],\"xaxis\":\"x\",\"y\":[6.151,4.491,1.906,1.113],\"yaxis\":\"y\",\"type\":\"bar\",\"texttemplate\":\"%{text:.2f}\"},{\"alignmentgroup\":\"True\",\"hovertemplate\":\"Method=crlx_latency_µs\\u003cbr\\u003eserial=%{x}\\u003cbr\\u003eLatency_µs=%{text}\\u003cextra\\u003e\\u003c\\u002fextra\\u003e\",\"legendgroup\":\"crlx_latency_µs\",\"marker\":{\"color\":\"#EF553B\",\"pattern\":{\"shape\":\"\"}},\"name\":\"crlx_latency_µs\",\"offsetgroup\":\"crlx_latency_µs\",\"orientation\":\"v\",\"showlegend\":true,\"text\":[0.344,0.258,0.33,0.218],\"textposition\":\"outside\",\"x\":[\"0x15420139c98d1b47d0fc6d2b1db1e5d4d53df01e\",\"0xd2bdd7f727819ec282c7ef1705eb660fde45656\",\"0xcc2ffd90089fe99e\",\"0xbbed777bf0e1fa42\"],\"xaxis\":\"x\",\"y\":[0.344,0.258,0.33,0.218],\"yaxis\":\"y\",\"type\":\"bar\",\"texttemplate\":\"%{text:.2f}\"}],                        {\"template\":{\"data\":{\"histogram2dcontour\":[{\"type\":\"histogram2dcontour\",\"colorbar\":{\"outlinewidth\":0,\"ticks\":\"\"},\"colorscale\":[[0.0,\"#0d0887\"],[0.1111111111111111,\"#46039f\"],[0.2222222222222222,\"#7201a8\"],[0.3333333333333333,\"#9c179e\"],[0.4444444444444444,\"#bd3786\"],[0.5555555555555556,\"#d8576b\"],[0.6666666666666666,\"#ed7953\"],[0.7777777777777778,\"#fb9f3a\"],[0.8888888888888888,\"#fdca26\"],[1.0,\"#f0f921\"]]}],\"choropleth\":[{\"type\":\"choropleth\",\"colorbar\":{\"outlinewidth\":0,\"ticks\":\"\"}}],\"histogram2d\":[{\"type\":\"histogram2d\",\"colorbar\":{\"outlinewidth\":0,\"ticks\":\"\"},\"colorscale\":[[0.0,\"#0d0887\"],[0.1111111111111111,\"#46039f\"],[0.2222222222222222,\"#7201a8\"],[0.3333333333333333,\"#9c179e\"],[0.4444444444444444,\"#bd3786\"],[0.5555555555555556,\"#d8576b\"],[0.6666666666666666,\"#ed7953\"],[0.7777777777777778,\"#fb9f3a\"],[0.8888888888888888,\"#fdca26\"],[1.0,\"#f0f921\"]]}],\"heatmap\":[{\"type\":\"heatmap\",\"colorbar\":{\"outlinewidth\":0,\"ticks\":\"\"},\"colorscale\":[[0.0,\"#0d0887\"],[0.1111111111111111,\"#46039f\"],[0.2222222222222222,\"#7201a8\"],[0.3333333333333333,\"#9c179e\"],[0.4444444444444444,\"#bd3786\"],[0.5555555555555556,\"#d8576b\"],[0.6666666666666666,\"#ed7953\"],[0.7777777777777778,\"#fb9f3a\"],[0.8888888888888888,\"#fdca26\"],[1.0,\"#f0f921\"]]}],\"heatmapgl\":[{\"type\":\"heatmapgl\",\"colorbar\":{\"outlinewidth\":0,\"ticks\":\"\"},\"colorscale\":[[0.0,\"#0d0887\"],[0.1111111111111111,\"#46039f\"],[0.2222222222222222,\"#7201a8\"],[0.3333333333333333,\"#9c179e\"],[0.4444444444444444,\"#bd3786\"],[0.5555555555555556,\"#d8576b\"],[0.6666666666666666,\"#ed7953\"],[0.7777777777777778,\"#fb9f3a\"],[0.8888888888888888,\"#fdca26\"],[1.0,\"#f0f921\"]]}],\"contourcarpet\":[{\"type\":\"contourcarpet\",\"colorbar\":{\"outlinewidth\":0,\"ticks\":\"\"}}],\"contour\":[{\"type\":\"contour\",\"colorbar\":{\"outlinewidth\":0,\"ticks\":\"\"},\"colorscale\":[[0.0,\"#0d0887\"],[0.1111111111111111,\"#46039f\"],[0.2222222222222222,\"#7201a8\"],[0.3333333333333333,\"#9c179e\"],[0.4444444444444444,\"#bd3786\"],[0.5555555555555556,\"#d8576b\"],[0.6666666666666666,\"#ed7953\"],[0.7777777777777778,\"#fb9f3a\"],[0.8888888888888888,\"#fdca26\"],[1.0,\"#f0f921\"]]}],\"surface\":[{\"type\":\"surface\",\"colorbar\":{\"outlinewidth\":0,\"ticks\":\"\"},\"colorscale\":[[0.0,\"#0d0887\"],[0.1111111111111111,\"#46039f\"],[0.2222222222222222,\"#7201a8\"],[0.3333333333333333,\"#9c179e\"],[0.4444444444444444,\"#bd3786\"],[0.5555555555555556,\"#d8576b\"],[0.6666666666666666,\"#ed7953\"],[0.7777777777777778,\"#fb9f3a\"],[0.8888888888888888,\"#fdca26\"],[1.0,\"#f0f921\"]]}],\"mesh3d\":[{\"type\":\"mesh3d\",\"colorbar\":{\"outlinewidth\":0,\"ticks\":\"\"}}],\"scatter\":[{\"fillpattern\":{\"fillmode\":\"overlay\",\"size\":10,\"solidity\":0.2},\"type\":\"scatter\"}],\"parcoords\":[{\"type\":\"parcoords\",\"line\":{\"colorbar\":{\"outlinewidth\":0,\"ticks\":\"\"}}}],\"scatterpolargl\":[{\"type\":\"scatterpolargl\",\"marker\":{\"colorbar\":{\"outlinewidth\":0,\"ticks\":\"\"}}}],\"bar\":[{\"error_x\":{\"color\":\"#2a3f5f\"},\"error_y\":{\"color\":\"#2a3f5f\"},\"marker\":{\"line\":{\"color\":\"#E5ECF6\",\"width\":0.5},\"pattern\":{\"fillmode\":\"overlay\",\"size\":10,\"solidity\":0.2}},\"type\":\"bar\"}],\"scattergeo\":[{\"type\":\"scattergeo\",\"marker\":{\"colorbar\":{\"outlinewidth\":0,\"ticks\":\"\"}}}],\"scatterpolar\":[{\"type\":\"scatterpolar\",\"marker\":{\"colorbar\":{\"outlinewidth\":0,\"ticks\":\"\"}}}],\"histogram\":[{\"marker\":{\"pattern\":{\"fillmode\":\"overlay\",\"size\":10,\"solidity\":0.2}},\"type\":\"histogram\"}],\"scattergl\":[{\"type\":\"scattergl\",\"marker\":{\"colorbar\":{\"outlinewidth\":0,\"ticks\":\"\"}}}],\"scatter3d\":[{\"type\":\"scatter3d\",\"line\":{\"colorbar\":{\"outlinewidth\":0,\"ticks\":\"\"}},\"marker\":{\"colorbar\":{\"outlinewidth\":0,\"ticks\":\"\"}}}],\"scattermapbox\":[{\"type\":\"scattermapbox\",\"marker\":{\"colorbar\":{\"outlinewidth\":0,\"ticks\":\"\"}}}],\"scatterternary\":[{\"type\":\"scatterternary\",\"marker\":{\"colorbar\":{\"outlinewidth\":0,\"ticks\":\"\"}}}],\"scattercarpet\":[{\"type\":\"scattercarpet\",\"marker\":{\"colorbar\":{\"outlinewidth\":0,\"ticks\":\"\"}}}],\"carpet\":[{\"aaxis\":{\"endlinecolor\":\"#2a3f5f\",\"gridcolor\":\"white\",\"linecolor\":\"white\",\"minorgridcolor\":\"white\",\"startlinecolor\":\"#2a3f5f\"},\"baxis\":{\"endlinecolor\":\"#2a3f5f\",\"gridcolor\":\"white\",\"linecolor\":\"white\",\"minorgridcolor\":\"white\",\"startlinecolor\":\"#2a3f5f\"},\"type\":\"carpet\"}],\"table\":[{\"cells\":{\"fill\":{\"color\":\"#EBF0F8\"},\"line\":{\"color\":\"white\"}},\"header\":{\"fill\":{\"color\":\"#C8D4E3\"},\"line\":{\"color\":\"white\"}},\"type\":\"table\"}],\"barpolar\":[{\"marker\":{\"line\":{\"color\":\"#E5ECF6\",\"width\":0.5},\"pattern\":{\"fillmode\":\"overlay\",\"size\":10,\"solidity\":0.2}},\"type\":\"barpolar\"}],\"pie\":[{\"automargin\":true,\"type\":\"pie\"}]},\"layout\":{\"autotypenumbers\":\"strict\",\"colorway\":[\"#636efa\",\"#EF553B\",\"#00cc96\",\"#ab63fa\",\"#FFA15A\",\"#19d3f3\",\"#FF6692\",\"#B6E880\",\"#FF97FF\",\"#FECB52\"],\"font\":{\"color\":\"#2a3f5f\"},\"hovermode\":\"closest\",\"hoverlabel\":{\"align\":\"left\"},\"paper_bgcolor\":\"white\",\"plot_bgcolor\":\"#E5ECF6\",\"polar\":{\"bgcolor\":\"#E5ECF6\",\"angularaxis\":{\"gridcolor\":\"white\",\"linecolor\":\"white\",\"ticks\":\"\"},\"radialaxis\":{\"gridcolor\":\"white\",\"linecolor\":\"white\",\"ticks\":\"\"}},\"ternary\":{\"bgcolor\":\"#E5ECF6\",\"aaxis\":{\"gridcolor\":\"white\",\"linecolor\":\"white\",\"ticks\":\"\"},\"baxis\":{\"gridcolor\":\"white\",\"linecolor\":\"white\",\"ticks\":\"\"},\"caxis\":{\"gridcolor\":\"white\",\"linecolor\":\"white\",\"ticks\":\"\"}},\"coloraxis\":{\"colorbar\":{\"outlinewidth\":0,\"ticks\":\"\"}},\"colorscale\":{\"sequential\":[[0.0,\"#0d0887\"],[0.1111111111111111,\"#46039f\"],[0.2222222222222222,\"#7201a8\"],[0.3333333333333333,\"#9c179e\"],[0.4444444444444444,\"#bd3786\"],[0.5555555555555556,\"#d8576b\"],[0.6666666666666666,\"#ed7953\"],[0.7777777777777778,\"#fb9f3a\"],[0.8888888888888888,\"#fdca26\"],[1.0,\"#f0f921\"]],\"sequentialminus\":[[0.0,\"#0d0887\"],[0.1111111111111111,\"#46039f\"],[0.2222222222222222,\"#7201a8\"],[0.3333333333333333,\"#9c179e\"],[0.4444444444444444,\"#bd3786\"],[0.5555555555555556,\"#d8576b\"],[0.6666666666666666,\"#ed7953\"],[0.7777777777777778,\"#fb9f3a\"],[0.8888888888888888,\"#fdca26\"],[1.0,\"#f0f921\"]],\"diverging\":[[0,\"#8e0152\"],[0.1,\"#c51b7d\"],[0.2,\"#de77ae\"],[0.3,\"#f1b6da\"],[0.4,\"#fde0ef\"],[0.5,\"#f7f7f7\"],[0.6,\"#e6f5d0\"],[0.7,\"#b8e186\"],[0.8,\"#7fbc41\"],[0.9,\"#4d9221\"],[1,\"#276419\"]]},\"xaxis\":{\"gridcolor\":\"white\",\"linecolor\":\"white\",\"ticks\":\"\",\"title\":{\"standoff\":15},\"zerolinecolor\":\"white\",\"automargin\":true,\"zerolinewidth\":2},\"yaxis\":{\"gridcolor\":\"white\",\"linecolor\":\"white\",\"ticks\":\"\",\"title\":{\"standoff\":15},\"zerolinecolor\":\"white\",\"automargin\":true,\"zerolinewidth\":2},\"scene\":{\"xaxis\":{\"backgroundcolor\":\"#E5ECF6\",\"gridcolor\":\"white\",\"linecolor\":\"white\",\"showbackground\":true,\"ticks\":\"\",\"zerolinecolor\":\"white\",\"gridwidth\":2},\"yaxis\":{\"backgroundcolor\":\"#E5ECF6\",\"gridcolor\":\"white\",\"linecolor\":\"white\",\"showbackground\":true,\"ticks\":\"\",\"zerolinecolor\":\"white\",\"gridwidth\":2},\"zaxis\":{\"backgroundcolor\":\"#E5ECF6\",\"gridcolor\":\"white\",\"linecolor\":\"white\",\"showbackground\":true,\"ticks\":\"\",\"zerolinecolor\":\"white\",\"gridwidth\":2}},\"shapedefaults\":{\"line\":{\"color\":\"#2a3f5f\"}},\"annotationdefaults\":{\"arrowcolor\":\"#2a3f5f\",\"arrowhead\":0,\"arrowwidth\":1},\"geo\":{\"bgcolor\":\"white\",\"landcolor\":\"#E5ECF6\",\"subunitcolor\":\"white\",\"showland\":true,\"showlakes\":true,\"lakecolor\":\"white\"},\"title\":{\"x\":0.05},\"mapbox\":{\"style\":\"light\"}}},\"xaxis\":{\"anchor\":\"y\",\"domain\":[0.0,1.0],\"title\":{\"text\":\"serial\"}},\"yaxis\":{\"anchor\":\"x\",\"domain\":[0.0,1.0],\"title\":{\"text\":\"Latency_µs\"}},\"legend\":{\"title\":{\"text\":\"Method\"},\"tracegroupgap\":0},\"title\":{\"text\":\"CRL Lookup Latency: Legacy vs CRLX\"},\"barmode\":\"group\"},                        {\"responsive\": true}                    ).then(function(){\n",
              "                            \n",
              "var gd = document.getElementById('ef0c9dd4-76b3-4fa7-a3a8-538f2eb32d55');\n",
              "var x = new MutationObserver(function (mutations, observer) {{\n",
              "        var display = window.getComputedStyle(gd).display;\n",
              "        if (!display || display === 'none') {{\n",
              "            console.log([gd, 'removed!']);\n",
              "            Plotly.purge(gd);\n",
              "            observer.disconnect();\n",
              "        }}\n",
              "}});\n",
              "\n",
              "// Listen for the removal of the full notebook cells\n",
              "var notebookContainer = gd.closest('#notebook-container');\n",
              "if (notebookContainer) {{\n",
              "    x.observe(notebookContainer, {childList: true});\n",
              "}}\n",
              "\n",
              "// Listen for the clearing of the current output cell\n",
              "var outputEl = gd.closest('.output');\n",
              "if (outputEl) {{\n",
              "    x.observe(outputEl, {childList: true});\n",
              "}}\n",
              "\n",
              "                        })                };                            </script>        </div>\n",
              "</body>\n",
              "</html>"
            ]
          },
          "metadata": {}
        },
        {
          "output_type": "display_data",
          "data": {
            "text/html": [
              "<html>\n",
              "<head><meta charset=\"utf-8\" /></head>\n",
              "<body>\n",
              "    <div>            <script src=\"https://cdnjs.cloudflare.com/ajax/libs/mathjax/2.7.5/MathJax.js?config=TeX-AMS-MML_SVG\"></script><script type=\"text/javascript\">if (window.MathJax && window.MathJax.Hub && window.MathJax.Hub.Config) {window.MathJax.Hub.Config({SVG: {font: \"STIX-Web\"}});}</script>                <script type=\"text/javascript\">window.PlotlyConfig = {MathJaxConfig: 'local'};</script>\n",
              "        <script charset=\"utf-8\" src=\"https://cdn.plot.ly/plotly-2.35.2.min.js\"></script>                <div id=\"95f2bfd8-b41d-4026-ad6c-f2c2946d8483\" class=\"plotly-graph-div\" style=\"height:525px; width:100%;\"></div>            <script type=\"text/javascript\">                                    window.PLOTLYENV=window.PLOTLYENV || {};                                    if (document.getElementById(\"95f2bfd8-b41d-4026-ad6c-f2c2946d8483\")) {                    Plotly.newPlot(                        \"95f2bfd8-b41d-4026-ad6c-f2c2946d8483\",                        [{\"gauge\":{\"axis\":{\"range\":[0,20]}},\"mode\":\"gauge+number\",\"title\":{\"text\":\"Average Speedup (X times)\"},\"value\":11.545,\"type\":\"indicator\"}],                        {\"template\":{\"data\":{\"histogram2dcontour\":[{\"type\":\"histogram2dcontour\",\"colorbar\":{\"outlinewidth\":0,\"ticks\":\"\"},\"colorscale\":[[0.0,\"#0d0887\"],[0.1111111111111111,\"#46039f\"],[0.2222222222222222,\"#7201a8\"],[0.3333333333333333,\"#9c179e\"],[0.4444444444444444,\"#bd3786\"],[0.5555555555555556,\"#d8576b\"],[0.6666666666666666,\"#ed7953\"],[0.7777777777777778,\"#fb9f3a\"],[0.8888888888888888,\"#fdca26\"],[1.0,\"#f0f921\"]]}],\"choropleth\":[{\"type\":\"choropleth\",\"colorbar\":{\"outlinewidth\":0,\"ticks\":\"\"}}],\"histogram2d\":[{\"type\":\"histogram2d\",\"colorbar\":{\"outlinewidth\":0,\"ticks\":\"\"},\"colorscale\":[[0.0,\"#0d0887\"],[0.1111111111111111,\"#46039f\"],[0.2222222222222222,\"#7201a8\"],[0.3333333333333333,\"#9c179e\"],[0.4444444444444444,\"#bd3786\"],[0.5555555555555556,\"#d8576b\"],[0.6666666666666666,\"#ed7953\"],[0.7777777777777778,\"#fb9f3a\"],[0.8888888888888888,\"#fdca26\"],[1.0,\"#f0f921\"]]}],\"heatmap\":[{\"type\":\"heatmap\",\"colorbar\":{\"outlinewidth\":0,\"ticks\":\"\"},\"colorscale\":[[0.0,\"#0d0887\"],[0.1111111111111111,\"#46039f\"],[0.2222222222222222,\"#7201a8\"],[0.3333333333333333,\"#9c179e\"],[0.4444444444444444,\"#bd3786\"],[0.5555555555555556,\"#d8576b\"],[0.6666666666666666,\"#ed7953\"],[0.7777777777777778,\"#fb9f3a\"],[0.8888888888888888,\"#fdca26\"],[1.0,\"#f0f921\"]]}],\"heatmapgl\":[{\"type\":\"heatmapgl\",\"colorbar\":{\"outlinewidth\":0,\"ticks\":\"\"},\"colorscale\":[[0.0,\"#0d0887\"],[0.1111111111111111,\"#46039f\"],[0.2222222222222222,\"#7201a8\"],[0.3333333333333333,\"#9c179e\"],[0.4444444444444444,\"#bd3786\"],[0.5555555555555556,\"#d8576b\"],[0.6666666666666666,\"#ed7953\"],[0.7777777777777778,\"#fb9f3a\"],[0.8888888888888888,\"#fdca26\"],[1.0,\"#f0f921\"]]}],\"contourcarpet\":[{\"type\":\"contourcarpet\",\"colorbar\":{\"outlinewidth\":0,\"ticks\":\"\"}}],\"contour\":[{\"type\":\"contour\",\"colorbar\":{\"outlinewidth\":0,\"ticks\":\"\"},\"colorscale\":[[0.0,\"#0d0887\"],[0.1111111111111111,\"#46039f\"],[0.2222222222222222,\"#7201a8\"],[0.3333333333333333,\"#9c179e\"],[0.4444444444444444,\"#bd3786\"],[0.5555555555555556,\"#d8576b\"],[0.6666666666666666,\"#ed7953\"],[0.7777777777777778,\"#fb9f3a\"],[0.8888888888888888,\"#fdca26\"],[1.0,\"#f0f921\"]]}],\"surface\":[{\"type\":\"surface\",\"colorbar\":{\"outlinewidth\":0,\"ticks\":\"\"},\"colorscale\":[[0.0,\"#0d0887\"],[0.1111111111111111,\"#46039f\"],[0.2222222222222222,\"#7201a8\"],[0.3333333333333333,\"#9c179e\"],[0.4444444444444444,\"#bd3786\"],[0.5555555555555556,\"#d8576b\"],[0.6666666666666666,\"#ed7953\"],[0.7777777777777778,\"#fb9f3a\"],[0.8888888888888888,\"#fdca26\"],[1.0,\"#f0f921\"]]}],\"mesh3d\":[{\"type\":\"mesh3d\",\"colorbar\":{\"outlinewidth\":0,\"ticks\":\"\"}}],\"scatter\":[{\"fillpattern\":{\"fillmode\":\"overlay\",\"size\":10,\"solidity\":0.2},\"type\":\"scatter\"}],\"parcoords\":[{\"type\":\"parcoords\",\"line\":{\"colorbar\":{\"outlinewidth\":0,\"ticks\":\"\"}}}],\"scatterpolargl\":[{\"type\":\"scatterpolargl\",\"marker\":{\"colorbar\":{\"outlinewidth\":0,\"ticks\":\"\"}}}],\"bar\":[{\"error_x\":{\"color\":\"#2a3f5f\"},\"error_y\":{\"color\":\"#2a3f5f\"},\"marker\":{\"line\":{\"color\":\"#E5ECF6\",\"width\":0.5},\"pattern\":{\"fillmode\":\"overlay\",\"size\":10,\"solidity\":0.2}},\"type\":\"bar\"}],\"scattergeo\":[{\"type\":\"scattergeo\",\"marker\":{\"colorbar\":{\"outlinewidth\":0,\"ticks\":\"\"}}}],\"scatterpolar\":[{\"type\":\"scatterpolar\",\"marker\":{\"colorbar\":{\"outlinewidth\":0,\"ticks\":\"\"}}}],\"histogram\":[{\"marker\":{\"pattern\":{\"fillmode\":\"overlay\",\"size\":10,\"solidity\":0.2}},\"type\":\"histogram\"}],\"scattergl\":[{\"type\":\"scattergl\",\"marker\":{\"colorbar\":{\"outlinewidth\":0,\"ticks\":\"\"}}}],\"scatter3d\":[{\"type\":\"scatter3d\",\"line\":{\"colorbar\":{\"outlinewidth\":0,\"ticks\":\"\"}},\"marker\":{\"colorbar\":{\"outlinewidth\":0,\"ticks\":\"\"}}}],\"scattermapbox\":[{\"type\":\"scattermapbox\",\"marker\":{\"colorbar\":{\"outlinewidth\":0,\"ticks\":\"\"}}}],\"scatterternary\":[{\"type\":\"scatterternary\",\"marker\":{\"colorbar\":{\"outlinewidth\":0,\"ticks\":\"\"}}}],\"scattercarpet\":[{\"type\":\"scattercarpet\",\"marker\":{\"colorbar\":{\"outlinewidth\":0,\"ticks\":\"\"}}}],\"carpet\":[{\"aaxis\":{\"endlinecolor\":\"#2a3f5f\",\"gridcolor\":\"white\",\"linecolor\":\"white\",\"minorgridcolor\":\"white\",\"startlinecolor\":\"#2a3f5f\"},\"baxis\":{\"endlinecolor\":\"#2a3f5f\",\"gridcolor\":\"white\",\"linecolor\":\"white\",\"minorgridcolor\":\"white\",\"startlinecolor\":\"#2a3f5f\"},\"type\":\"carpet\"}],\"table\":[{\"cells\":{\"fill\":{\"color\":\"#EBF0F8\"},\"line\":{\"color\":\"white\"}},\"header\":{\"fill\":{\"color\":\"#C8D4E3\"},\"line\":{\"color\":\"white\"}},\"type\":\"table\"}],\"barpolar\":[{\"marker\":{\"line\":{\"color\":\"#E5ECF6\",\"width\":0.5},\"pattern\":{\"fillmode\":\"overlay\",\"size\":10,\"solidity\":0.2}},\"type\":\"barpolar\"}],\"pie\":[{\"automargin\":true,\"type\":\"pie\"}]},\"layout\":{\"autotypenumbers\":\"strict\",\"colorway\":[\"#636efa\",\"#EF553B\",\"#00cc96\",\"#ab63fa\",\"#FFA15A\",\"#19d3f3\",\"#FF6692\",\"#B6E880\",\"#FF97FF\",\"#FECB52\"],\"font\":{\"color\":\"#2a3f5f\"},\"hovermode\":\"closest\",\"hoverlabel\":{\"align\":\"left\"},\"paper_bgcolor\":\"white\",\"plot_bgcolor\":\"#E5ECF6\",\"polar\":{\"bgcolor\":\"#E5ECF6\",\"angularaxis\":{\"gridcolor\":\"white\",\"linecolor\":\"white\",\"ticks\":\"\"},\"radialaxis\":{\"gridcolor\":\"white\",\"linecolor\":\"white\",\"ticks\":\"\"}},\"ternary\":{\"bgcolor\":\"#E5ECF6\",\"aaxis\":{\"gridcolor\":\"white\",\"linecolor\":\"white\",\"ticks\":\"\"},\"baxis\":{\"gridcolor\":\"white\",\"linecolor\":\"white\",\"ticks\":\"\"},\"caxis\":{\"gridcolor\":\"white\",\"linecolor\":\"white\",\"ticks\":\"\"}},\"coloraxis\":{\"colorbar\":{\"outlinewidth\":0,\"ticks\":\"\"}},\"colorscale\":{\"sequential\":[[0.0,\"#0d0887\"],[0.1111111111111111,\"#46039f\"],[0.2222222222222222,\"#7201a8\"],[0.3333333333333333,\"#9c179e\"],[0.4444444444444444,\"#bd3786\"],[0.5555555555555556,\"#d8576b\"],[0.6666666666666666,\"#ed7953\"],[0.7777777777777778,\"#fb9f3a\"],[0.8888888888888888,\"#fdca26\"],[1.0,\"#f0f921\"]],\"sequentialminus\":[[0.0,\"#0d0887\"],[0.1111111111111111,\"#46039f\"],[0.2222222222222222,\"#7201a8\"],[0.3333333333333333,\"#9c179e\"],[0.4444444444444444,\"#bd3786\"],[0.5555555555555556,\"#d8576b\"],[0.6666666666666666,\"#ed7953\"],[0.7777777777777778,\"#fb9f3a\"],[0.8888888888888888,\"#fdca26\"],[1.0,\"#f0f921\"]],\"diverging\":[[0,\"#8e0152\"],[0.1,\"#c51b7d\"],[0.2,\"#de77ae\"],[0.3,\"#f1b6da\"],[0.4,\"#fde0ef\"],[0.5,\"#f7f7f7\"],[0.6,\"#e6f5d0\"],[0.7,\"#b8e186\"],[0.8,\"#7fbc41\"],[0.9,\"#4d9221\"],[1,\"#276419\"]]},\"xaxis\":{\"gridcolor\":\"white\",\"linecolor\":\"white\",\"ticks\":\"\",\"title\":{\"standoff\":15},\"zerolinecolor\":\"white\",\"automargin\":true,\"zerolinewidth\":2},\"yaxis\":{\"gridcolor\":\"white\",\"linecolor\":\"white\",\"ticks\":\"\",\"title\":{\"standoff\":15},\"zerolinecolor\":\"white\",\"automargin\":true,\"zerolinewidth\":2},\"scene\":{\"xaxis\":{\"backgroundcolor\":\"#E5ECF6\",\"gridcolor\":\"white\",\"linecolor\":\"white\",\"showbackground\":true,\"ticks\":\"\",\"zerolinecolor\":\"white\",\"gridwidth\":2},\"yaxis\":{\"backgroundcolor\":\"#E5ECF6\",\"gridcolor\":\"white\",\"linecolor\":\"white\",\"showbackground\":true,\"ticks\":\"\",\"zerolinecolor\":\"white\",\"gridwidth\":2},\"zaxis\":{\"backgroundcolor\":\"#E5ECF6\",\"gridcolor\":\"white\",\"linecolor\":\"white\",\"showbackground\":true,\"ticks\":\"\",\"zerolinecolor\":\"white\",\"gridwidth\":2}},\"shapedefaults\":{\"line\":{\"color\":\"#2a3f5f\"}},\"annotationdefaults\":{\"arrowcolor\":\"#2a3f5f\",\"arrowhead\":0,\"arrowwidth\":1},\"geo\":{\"bgcolor\":\"white\",\"landcolor\":\"#E5ECF6\",\"subunitcolor\":\"white\",\"showland\":true,\"showlakes\":true,\"lakecolor\":\"white\"},\"title\":{\"x\":0.05},\"mapbox\":{\"style\":\"light\"}}}},                        {\"responsive\": true}                    ).then(function(){\n",
              "                            \n",
              "var gd = document.getElementById('95f2bfd8-b41d-4026-ad6c-f2c2946d8483');\n",
              "var x = new MutationObserver(function (mutations, observer) {{\n",
              "        var display = window.getComputedStyle(gd).display;\n",
              "        if (!display || display === 'none') {{\n",
              "            console.log([gd, 'removed!']);\n",
              "            Plotly.purge(gd);\n",
              "            observer.disconnect();\n",
              "        }}\n",
              "}});\n",
              "\n",
              "// Listen for the removal of the full notebook cells\n",
              "var notebookContainer = gd.closest('#notebook-container');\n",
              "if (notebookContainer) {{\n",
              "    x.observe(notebookContainer, {childList: true});\n",
              "}}\n",
              "\n",
              "// Listen for the clearing of the current output cell\n",
              "var outputEl = gd.closest('.output');\n",
              "if (outputEl) {{\n",
              "    x.observe(outputEl, {childList: true});\n",
              "}}\n",
              "\n",
              "                        })                };                            </script>        </div>\n",
              "</body>\n",
              "</html>"
            ]
          },
          "metadata": {}
        },
        {
          "output_type": "stream",
          "name": "stdout",
          "text": [
            "⚠️ CRL Staleness Window (days): [29, 29, 29]\n",
            "\n",
            "--- Summary Table ---\n",
            " Total CRLs  Total Revoked Certificates  Cached Index Size (bytes)  Average Lookup Speedup (X)\n",
            "          3                           3                       1354                       11.54\n"
          ]
        }
      ]
    },
    {
      "cell_type": "code",
      "source": [
        "!apt-get install -qq graphviz\n",
        "!pip install -q graphviz\n",
        "\n",
        "from graphviz import Digraph\n",
        "\n",
        "dot = Digraph(comment='CRLX Framework Flow')\n",
        "\n",
        "dot.node('A', 'Start Colab Notebook')\n",
        "dot.node('B', 'Setup Environment\\n(Install packages, create dirs)')\n",
        "dot.node('C', 'Generate Synthetic\\nCertificates & CRLs')\n",
        "dot.node('D', 'Parse & Index CRLs\\n(Extract revoked serials, cache index)')\n",
        "dot.node('E', 'Accelerated Lookup vs Legacy Lookup\\n(Benchmark & speedup)')\n",
        "dot.node('F', 'Visualization Dashboard\\n(Latency chart, speedup, staleness, summary)')\n",
        "dot.node('G', 'End Notebook')\n",
        "\n",
        "dot.edges(['AB','BC','CD','DE','EF','FG'])\n",
        "\n",
        "dot.render('/content/crlx_flowchart', format='png', cleanup=True)\n",
        "from IPython.display import Image\n",
        "Image('/content/crlx_flowchart.png')\n"
      ],
      "metadata": {
        "colab": {
          "base_uri": "https://localhost:8080/",
          "height": 770
        },
        "id": "82KhZTUEMi5R",
        "outputId": "f86d34d9-e5de-4ba1-cbb2-819d898d9daa"
      },
      "execution_count": null,
      "outputs": [
        {
          "output_type": "execute_result",
          "data": {
            "image/png": "[encoded data removed]",
            "text/plain": [
              "<IPython.core.display.Image object>"
            ]
          },
          "metadata": {},
          "execution_count": 22
        }
      ]
    },
    {
      "cell_type": "markdown",
      "source": [
        "**USING REAL DATA**"
      ],
      "metadata": {
        "id": "8-YHtb_6X2q0"
      }
    },
    {
      "cell_type": "code",
      "source": [
        "from cryptography import x509\n",
        "from cryptography.hazmat.backends import default_backend\n",
        "import os\n",
        "\n",
        "# Path to uploaded CRL\n",
        "real_crl_path = \"/content/qvrca2.crl\"\n",
        "\n",
        "# Read the CRL file\n",
        "with open(real_crl_path, \"rb\") as f:\n",
        "    crl_data = f.read()\n",
        "\n",
        "# Load the CRL\n",
        "crl = x509.load_der_x509_crl(crl_data, default_backend())\n",
        "\n",
        "# Extract revoked serial numbers\n",
        "revoked_serials = [revoked.serial_number for revoked in crl]\n",
        "\n",
        "print(f\"[+] Parsed CRL: {len(revoked_serials)} revoked certificates found.\")\n",
        "print(\"Sample revoked serials (first 5):\", revoked_serials[:5])\n"
      ],
      "metadata": {
        "colab": {
          "base_uri": "https://localhost:8080/"
        },
        "id": "YG00JcxWX6OF",
        "outputId": "511f1dcf-ea27-443d-dc06-37c4431f83f5"
      },
      "execution_count": null,
      "outputs": [
        {
          "output_type": "stream",
          "name": "stdout",
          "text": [
            "[+] Parsed CRL: 36 revoked certificates found.\n",
            "Sample revoked serials (first 5): [343221542082308252812471151435050411029562276936, 652150439487329841487760055844176057896109436344, 1504, 1503, 569643031718392286254283316430696276166526012312]\n"
          ]
        }
      ]
    },
    {
      "cell_type": "code",
      "source": [
        "# Build a non-probabilistic hash-based index\n",
        "crlx_index_real = {serial: True for serial in revoked_serials}\n",
        "\n",
        "print(f\"[+] CRLX index built with {len(crlx_index_real)} serials.\")\n",
        "\n",
        "# Test lookup: check a revoked and a non-revoked serial\n",
        "test_revoked = revoked_serials[0]\n",
        "test_not_revoked = 999999999999999999  # Arbitrary non-revoked serial\n",
        "\n",
        "print(f\"Lookup revoked serial ({test_revoked}):\", crlx_index_real.get(test_revoked, False))\n",
        "print(f\"Lookup non-revoked serial ({test_not_revoked}):\", crlx_index_real.get(test_not_revoked, False))\n"
      ],
      "metadata": {
        "colab": {
          "base_uri": "https://localhost:8080/"
        },
        "id": "jTRR3KURdRXV",
        "outputId": "8c609eef-3add-4868-ae02-b07164abd558"
      },
      "execution_count": null,
      "outputs": [
        {
          "output_type": "stream",
          "name": "stdout",
          "text": [
            "[+] CRLX index built with 36 serials.\n",
            "Lookup revoked serial (343221542082308252812471151435050411029562276936): True\n",
            "Lookup non-revoked serial (999999999999999999): False\n"
          ]
        }
      ]
    },
    {
      "cell_type": "code",
      "source": [
        "import time\n",
        "\n",
        "# Legacy linear search (O(N))\n",
        "def legacy_lookup(serial, revoked_list):\n",
        "    return serial in revoked_list\n",
        "\n",
        "# Test serials\n",
        "test_serials = revoked_serials + [999999999999999999]  # Include one non-revoked\n",
        "\n",
        "# Measure legacy lookup time\n",
        "start_legacy = time.time()\n",
        "for serial in test_serials:\n",
        "    legacy_lookup(serial, revoked_serials)\n",
        "end_legacy = time.time()\n",
        "legacy_latency = (end_legacy - start_legacy) * 1000  # in ms\n",
        "\n",
        "# Measure CRLX lookup time\n",
        "start_crlx = time.time()\n",
        "for serial in test_serials:\n",
        "    crlx_index_real.get(serial, False)\n",
        "end_crlx = time.time()\n",
        "crlx_latency = (end_crlx - start_crlx) * 1000  # in ms\n",
        "\n",
        "# Speedup\n",
        "speedup = legacy_latency / crlx_latency\n",
        "\n",
        "print(f\"Legacy lookup time: {legacy_latency:.4f} ms\")\n",
        "print(f\"CRLX lookup time: {crlx_latency:.4f} ms\")\n",
        "print(f\"Speedup factor: {speedup:.2f}x\")\n"
      ],
      "metadata": {
        "colab": {
          "base_uri": "https://localhost:8080/"
        },
        "id": "JHqHSHNQdX1U",
        "outputId": "0ac8fda2-15aa-4b32-ff04-7248f1e95d98"
      },
      "execution_count": null,
      "outputs": [
        {
          "output_type": "stream",
          "name": "stdout",
          "text": [
            "Legacy lookup time: 0.0973 ms\n",
            "CRLX lookup time: 0.0956 ms\n",
            "Speedup factor: 1.02x\n"
          ]
        }
      ]
    },
    {
      "cell_type": "code",
      "source": [
        "# ------------------------------\n",
        "# CRLX Combined Dashboard\n",
        "# ------------------------------\n",
        "\n",
        "import pandas as pd\n",
        "import matplotlib.pyplot as plt\n",
        "from datetime import datetime, timedelta\n",
        "\n",
        "# --- Step 1: Prepare metrics ---\n",
        "\n",
        "# Synthetic CRL metrics (from your previous runs)\n",
        "synthetic_metrics = {\n",
        "    \"Dataset\": \"Synthetic CRL\",\n",
        "    \"Num_CRLS\": 3,\n",
        "    \"Revoked_Certs\": 3,\n",
        "    \"Legacy_Lookup_Time_ms\": 0.01033,  # convert µs -> ms for consistency\n",
        "    \"CRLX_Lookup_Time_ms\": 0.00065,\n",
        "    \"Speedup_X\": 15.82,\n",
        "    \"Cache_Size_Bytes\": 1301,\n",
        "    \"Next_Update_Days\": 29\n",
        "}\n",
        "\n",
        "# Real CRL metrics (from QuoVadis test)\n",
        "real_metrics = {\n",
        "    \"Dataset\": \"Real CRL (QuoVadis)\",\n",
        "    \"Num_CRLS\": 1,\n",
        "    \"Revoked_Certs\": 36,\n",
        "    \"Legacy_Lookup_Time_ms\": 0.0973,\n",
        "    \"CRLX_Lookup_Time_ms\": 0.0956,\n",
        "    \"Speedup_X\": 1.02,\n",
        "    \"Cache_Size_Bytes\": len(crlx_index_real) * 64,  # rough estimate: 64 bytes per entry\n",
        "    \"Next_Update_Days\": (crl.next_update - datetime.utcnow()).days\n",
        "}\n",
        "\n",
        "# Create DataFrame\n",
        "df_dashboard = pd.DataFrame([synthetic_metrics, real_metrics])\n",
        "df_dashboard\n"
      ],
      "metadata": {
        "colab": {
          "base_uri": "https://localhost:8080/",
          "height": 284
        },
        "id": "YFMH-9wCjZaU",
        "outputId": "0a248cca-b859-449f-a1bd-9545bcdd9415"
      },
      "execution_count": null,
      "outputs": [
        {
          "output_type": "stream",
          "name": "stderr",
          "text": [
            "/tmp/ipython-input-1648790593.py:32: CryptographyDeprecationWarning:\n",
            "\n",
            "Properties that return a naïve datetime object have been deprecated. Please switch to next_update_utc.\n",
            "\n",
            "/tmp/ipython-input-1648790593.py:32: DeprecationWarning:\n",
            "\n",
            "datetime.datetime.utcnow() is deprecated and scheduled for removal in a future version. Use timezone-aware objects to represent datetimes in UTC: datetime.datetime.now(datetime.UTC).\n",
            "\n"
          ]
        },
        {
          "output_type": "execute_result",
          "data": {
            "text/plain": [
              "               Dataset  Num_CRLS  Revoked_Certs  Legacy_Lookup_Time_ms  \\\n",
              "0        Synthetic CRL         3              3                0.01033   \n",
              "1  Real CRL (QuoVadis)         1             36                0.09730   \n",
              "\n",
              "   CRLX_Lookup_Time_ms  Speedup_X  Cache_Size_Bytes  Next_Update_Days  \n",
              "0              0.00065      15.82              1301                29  \n",
              "1              0.09560       1.02              2304                96  "
            ],
            "text/html": [
              "\n",
              "  <div id=\"df-3c68046c-a2e4-4a7d-a00b-e14b435e0857\" class=\"colab-df-container\">\n",
              "    <div>\n",
              "<style scoped>\n",
              "    .dataframe tbody tr th:only-of-type {\n",
              "        vertical-align: middle;\n",
              "    }\n",
              "\n",
              "    .dataframe tbody tr th {\n",
              "        vertical-align: top;\n",
              "    }\n",
              "\n",
              "    .dataframe thead th {\n",
              "        text-align: right;\n",
              "    }\n",
              "</style>\n",
              "<table border=\"1\" class=\"dataframe\">\n",
              "  <thead>\n",
              "    <tr style=\"text-align: right;\">\n",
              "      <th></th>\n",
              "      <th>Dataset</th>\n",
              "      <th>Num_CRLS</th>\n",
              "      <th>Revoked_Certs</th>\n",
              "      <th>Legacy_Lookup_Time_ms</th>\n",
              "      <th>CRLX_Lookup_Time_ms</th>\n",
              "      <th>Speedup_X</th>\n",
              "      <th>Cache_Size_Bytes</th>\n",
              "      <th>Next_Update_Days</th>\n",
              "    </tr>\n",
              "  </thead>\n",
              "  <tbody>\n",
              "    <tr>\n",
              "      <th>0</th>\n",
              "      <td>Synthetic CRL</td>\n",
              "      <td>3</td>\n",
              "      <td>3</td>\n",
              "      <td>0.01033</td>\n",
              "      <td>0.00065</td>\n",
              "      <td>15.82</td>\n",
              "      <td>1301</td>\n",
              "      <td>29</td>\n",
              "    </tr>\n",
              "    <tr>\n",
              "      <th>1</th>\n",
              "      <td>Real CRL (QuoVadis)</td>\n",
              "      <td>1</td>\n",
              "      <td>36</td>\n",
              "      <td>0.09730</td>\n",
              "      <td>0.09560</td>\n",
              "      <td>1.02</td>\n",
              "      <td>2304</td>\n",
              "      <td>96</td>\n",
              "    </tr>\n",
              "  </tbody>\n",
              "</table>\n",
              "</div>\n",
              "    <div class=\"colab-df-buttons\">\n",
              "\n",
              "  <div class=\"colab-df-container\">\n",
              "    <button class=\"colab-df-convert\" onclick=\"convertToInteractive('df-3c68046c-a2e4-4a7d-a00b-e14b435e0857')\"\n",
              "            title=\"Convert this dataframe to an interactive table.\"\n",
              "            style=\"display:none;\">\n",
              "\n",
              "  <svg xmlns=\"http://www.w3.org/2000/svg\" height=\"24px\" viewBox=\"0 -960 960 960\">\n",
              "    <path d=\"M120-120v-720h720v720H120Zm60-500h600v-160H180v160Zm220 220h160v-160H400v160Zm0 220h160v-160H400v160ZM180-400h160v-160H180v160Zm440 0h160v-160H620v160ZM180-180h160v-160H180v160Zm440 0h160v-160H620v160Z\"/>\n",
              "  </svg>\n",
              "    </button>\n",
              "\n",
              "  <style>\n",
              "    .colab-df-container {\n",
              "      display:flex;\n",
              "      gap: 12px;\n",
              "    }\n",
              "\n",
              "    .colab-df-convert {\n",
              "      background-color: #E8F0FE;\n",
              "      border: none;\n",
              "      border-radius: 50%;\n",
              "      cursor: pointer;\n",
              "      display: none;\n",
              "      fill: #1967D2;\n",
              "      height: 32px;\n",
              "      padding: 0 0 0 0;\n",
              "      width: 32px;\n",
              "    }\n",
              "\n",
              "    .colab-df-convert:hover {\n",
              "      background-color: #E2EBFA;\n",
              "      box-shadow: 0px 1px 2px rgba(60, 64, 67, 0.3), 0px 1px 3px 1px rgba(60, 64, 67, 0.15);\n",
              "      fill: #174EA6;\n",
              "    }\n",
              "\n",
              "    .colab-df-buttons div {\n",
              "      margin-bottom: 4px;\n",
              "    }\n",
              "\n",
              "    [theme=dark] .colab-df-convert {\n",
              "      background-color: #3B4455;\n",
              "      fill: #D2E3FC;\n",
              "    }\n",
              "\n",
              "    [theme=dark] .colab-df-convert:hover {\n",
              "      background-color: #434B5C;\n",
              "      box-shadow: 0px 1px 3px 1px rgba(0, 0, 0, 0.15);\n",
              "      filter: drop-shadow(0px 1px 2px rgba(0, 0, 0, 0.3));\n",
              "      fill: #FFFFFF;\n",
              "    }\n",
              "  </style>\n",
              "\n",
              "    <script>\n",
              "      const buttonEl =\n",
              "        document.querySelector('#df-3c68046c-a2e4-4a7d-a00b-e14b435e0857 button.colab-df-convert');\n",
              "      buttonEl.style.display =\n",
              "        google.colab.kernel.accessAllowed ? 'block' : 'none';\n",
              "\n",
              "      async function convertToInteractive(key) {\n",
              "        const element = document.querySelector('#df-3c68046c-a2e4-4a7d-a00b-e14b435e0857');\n",
              "        const dataTable =\n",
              "          await google.colab.kernel.invokeFunction('convertToInteractive',\n",
              "                                                    [key], {});\n",
              "        if (!dataTable) return;\n",
              "\n",
              "        const docLinkHtml = 'Like what you see? Visit the ' +\n",
              "          '<a target=\"_blank\" href=https://colab.research.google.com/notebooks/data_table.ipynb>data table notebook</a>'\n",
              "          + ' to learn more about interactive tables.';\n",
              "        element.innerHTML = '';\n",
              "        dataTable['output_type'] = 'display_data';\n",
              "        await google.colab.output.renderOutput(dataTable, element);\n",
              "        const docLink = document.createElement('div');\n",
              "        docLink.innerHTML = docLinkHtml;\n",
              "        element.appendChild(docLink);\n",
              "      }\n",
              "    </script>\n",
              "  </div>\n",
              "\n",
              "\n",
              "    <div id=\"df-f1284fb2-665a-4e2d-bfab-8be3e470aa08\">\n",
              "      <button class=\"colab-df-quickchart\" onclick=\"quickchart('df-f1284fb2-665a-4e2d-bfab-8be3e470aa08')\"\n",
              "                title=\"Suggest charts\"\n",
              "                style=\"display:none;\">\n",
              "\n",
              "<svg xmlns=\"http://www.w3.org/2000/svg\" height=\"24px\"viewBox=\"0 0 24 24\"\n",
              "     width=\"24px\">\n",
              "    <g>\n",
              "        <path d=\"M19 3H5c-1.1 0-2 .9-2 2v14c0 1.1.9 2 2 2h14c1.1 0 2-.9 2-2V5c0-1.1-.9-2-2-2zM9 17H7v-7h2v7zm4 0h-2V7h2v10zm4 0h-2v-4h2v4z\"/>\n",
              "    </g>\n",
              "</svg>\n",
              "      </button>\n",
              "\n",
              "<style>\n",
              "  .colab-df-quickchart {\n",
              "      --bg-color: #E8F0FE;\n",
              "      --fill-color: #1967D2;\n",
              "      --hover-bg-color: #E2EBFA;\n",
              "      --hover-fill-color: #174EA6;\n",
              "      --disabled-fill-color: #AAA;\n",
              "      --disabled-bg-color: #DDD;\n",
              "  }\n",
              "\n",
              "  [theme=dark] .colab-df-quickchart {\n",
              "      --bg-color: #3B4455;\n",
              "      --fill-color: #D2E3FC;\n",
              "      --hover-bg-color: #434B5C;\n",
              "      --hover-fill-color: #FFFFFF;\n",
              "      --disabled-bg-color: #3B4455;\n",
              "      --disabled-fill-color: #666;\n",
              "  }\n",
              "\n",
              "  .colab-df-quickchart {\n",
              "    background-color: var(--bg-color);\n",
              "    border: none;\n",
              "    border-radius: 50%;\n",
              "    cursor: pointer;\n",
              "    display: none;\n",
              "    fill: var(--fill-color);\n",
              "    height: 32px;\n",
              "    padding: 0;\n",
              "    width: 32px;\n",
              "  }\n",
              "\n",
              "  .colab-df-quickchart:hover {\n",
              "    background-color: var(--hover-bg-color);\n",
              "    box-shadow: 0 1px 2px rgba(60, 64, 67, 0.3), 0 1px 3px 1px rgba(60, 64, 67, 0.15);\n",
              "    fill: var(--button-hover-fill-color);\n",
              "  }\n",
              "\n",
              "  .colab-df-quickchart-complete:disabled,\n",
              "  .colab-df-quickchart-complete:disabled:hover {\n",
              "    background-color: var(--disabled-bg-color);\n",
              "    fill: var(--disabled-fill-color);\n",
              "    box-shadow: none;\n",
              "  }\n",
              "\n",
              "  .colab-df-spinner {\n",
              "    border: 2px solid var(--fill-color);\n",
              "    border-color: transparent;\n",
              "    border-bottom-color: var(--fill-color);\n",
              "    animation:\n",
              "      spin 1s steps(1) infinite;\n",
              "  }\n",
              "\n",
              "  @keyframes spin {\n",
              "    0% {\n",
              "      border-color: transparent;\n",
              "      border-bottom-color: var(--fill-color);\n",
              "      border-left-color: var(--fill-color);\n",
              "    }\n",
              "    20% {\n",
              "      border-color: transparent;\n",
              "      border-left-color: var(--fill-color);\n",
              "      border-top-color: var(--fill-color);\n",
              "    }\n",
              "    30% {\n",
              "      border-color: transparent;\n",
              "      border-left-color: var(--fill-color);\n",
              "      border-top-color: var(--fill-color);\n",
              "      border-right-color: var(--fill-color);\n",
              "    }\n",
              "    40% {\n",
              "      border-color: transparent;\n",
              "      border-right-color: var(--fill-color);\n",
              "      border-top-color: var(--fill-color);\n",
              "    }\n",
              "    60% {\n",
              "      border-color: transparent;\n",
              "      border-right-color: var(--fill-color);\n",
              "    }\n",
              "    80% {\n",
              "      border-color: transparent;\n",
              "      border-right-color: var(--fill-color);\n",
              "      border-bottom-color: var(--fill-color);\n",
              "    }\n",
              "    90% {\n",
              "      border-color: transparent;\n",
              "      border-bottom-color: var(--fill-color);\n",
              "    }\n",
              "  }\n",
              "</style>\n",
              "\n",
              "      <script>\n",
              "        async function quickchart(key) {\n",
              "          const quickchartButtonEl =\n",
              "            document.querySelector('#' + key + ' button');\n",
              "          quickchartButtonEl.disabled = true;  // To prevent multiple clicks.\n",
              "          quickchartButtonEl.classList.add('colab-df-spinner');\n",
              "          try {\n",
              "            const charts = await google.colab.kernel.invokeFunction(\n",
              "                'suggestCharts', [key], {});\n",
              "          } catch (error) {\n",
              "            console.error('Error during call to suggestCharts:', error);\n",
              "          }\n",
              "          quickchartButtonEl.classList.remove('colab-df-spinner');\n",
              "          quickchartButtonEl.classList.add('colab-df-quickchart-complete');\n",
              "        }\n",
              "        (() => {\n",
              "          let quickchartButtonEl =\n",
              "            document.querySelector('#df-f1284fb2-665a-4e2d-bfab-8be3e470aa08 button');\n",
              "          quickchartButtonEl.style.display =\n",
              "            google.colab.kernel.accessAllowed ? 'block' : 'none';\n",
              "        })();\n",
              "      </script>\n",
              "    </div>\n",
              "\n",
              "  <div id=\"id_485679a4-9d02-420c-a368-b4a450b8ce32\">\n",
              "    <style>\n",
              "      .colab-df-generate {\n",
              "        background-color: #E8F0FE;\n",
              "        border: none;\n",
              "        border-radius: 50%;\n",
              "        cursor: pointer;\n",
              "        display: none;\n",
              "        fill: #1967D2;\n",
              "        height: 32px;\n",
              "        padding: 0 0 0 0;\n",
              "        width: 32px;\n",
              "      }\n",
              "\n",
              "      .colab-df-generate:hover {\n",
              "        background-color: #E2EBFA;\n",
              "        box-shadow: 0px 1px 2px rgba(60, 64, 67, 0.3), 0px 1px 3px 1px rgba(60, 64, 67, 0.15);\n",
              "        fill: #174EA6;\n",
              "      }\n",
              "\n",
              "      [theme=dark] .colab-df-generate {\n",
              "        background-color: #3B4455;\n",
              "        fill: #D2E3FC;\n",
              "      }\n",
              "\n",
              "      [theme=dark] .colab-df-generate:hover {\n",
              "        background-color: #434B5C;\n",
              "        box-shadow: 0px 1px 3px 1px rgba(0, 0, 0, 0.15);\n",
              "        filter: drop-shadow(0px 1px 2px rgba(0, 0, 0, 0.3));\n",
              "        fill: #FFFFFF;\n",
              "      }\n",
              "    </style>\n",
              "    <button class=\"colab-df-generate\" onclick=\"generateWithVariable('df_dashboard')\"\n",
              "            title=\"Generate code using this dataframe.\"\n",
              "            style=\"display:none;\">\n",
              "\n",
              "  <svg xmlns=\"http://www.w3.org/2000/svg\" height=\"24px\"viewBox=\"0 0 24 24\"\n",
              "       width=\"24px\">\n",
              "    <path d=\"M7,19H8.4L18.45,9,17,7.55,7,17.6ZM5,21V16.75L18.45,3.32a2,2,0,0,1,2.83,0l1.4,1.43a1.91,1.91,0,0,1,.58,1.4,1.91,1.91,0,0,1-.58,1.4L9.25,21ZM18.45,9,17,7.55Zm-12,3A5.31,5.31,0,0,0,4.9,8.1,5.31,5.31,0,0,0,1,6.5,5.31,5.31,0,0,0,4.9,4.9,5.31,5.31,0,0,0,6.5,1,5.31,5.31,0,0,0,8.1,4.9,5.31,5.31,0,0,0,12,6.5,5.46,5.46,0,0,0,6.5,12Z\"/>\n",
              "  </svg>\n",
              "    </button>\n",
              "    <script>\n",
              "      (() => {\n",
              "      const buttonEl =\n",
              "        document.querySelector('#id_485679a4-9d02-420c-a368-b4a450b8ce32 button.colab-df-generate');\n",
              "      buttonEl.style.display =\n",
              "        google.colab.kernel.accessAllowed ? 'block' : 'none';\n",
              "\n",
              "      buttonEl.onclick = () => {\n",
              "        google.colab.notebook.generateWithVariable('df_dashboard');\n",
              "      }\n",
              "      })();\n",
              "    </script>\n",
              "  </div>\n",
              "\n",
              "    </div>\n",
              "  </div>\n"
            ],
            "application/vnd.google.colaboratory.intrinsic+json": {
              "type": "dataframe",
              "variable_name": "df_dashboard",
              "summary": "{\n  \"name\": \"df_dashboard\",\n  \"rows\": 2,\n  \"fields\": [\n    {\n      \"column\": \"Dataset\",\n      \"properties\": {\n        \"dtype\": \"string\",\n        \"num_unique_values\": 2,\n        \"samples\": [\n          \"Real CRL (QuoVadis)\",\n          \"Synthetic CRL\"\n        ],\n        \"semantic_type\": \"\",\n        \"description\": \"\"\n      }\n    },\n    {\n      \"column\": \"Num_CRLS\",\n      \"properties\": {\n        \"dtype\": \"number\",\n        \"std\": 1,\n        \"min\": 1,\n        \"max\": 3,\n        \"num_unique_values\": 2,\n        \"samples\": [\n          1,\n          3\n        ],\n        \"semantic_type\": \"\",\n        \"description\": \"\"\n      }\n    },\n    {\n      \"column\": \"Revoked_Certs\",\n      \"properties\": {\n        \"dtype\": \"number\",\n        \"std\": 23,\n        \"min\": 3,\n        \"max\": 36,\n        \"num_unique_values\": 2,\n        \"samples\": [\n          36,\n          3\n        ],\n        \"semantic_type\": \"\",\n        \"description\": \"\"\n      }\n    },\n    {\n      \"column\": \"Legacy_Lookup_Time_ms\",\n      \"properties\": {\n        \"dtype\": \"number\",\n        \"std\": 0.06149707675979404,\n        \"min\": 0.01033,\n        \"max\": 0.0973,\n        \"num_unique_values\": 2,\n        \"samples\": [\n          0.0973,\n          0.01033\n        ],\n        \"semantic_type\": \"\",\n        \"description\": \"\"\n      }\n    },\n    {\n      \"column\": \"CRLX_Lookup_Time_ms\",\n      \"properties\": {\n        \"dtype\": \"number\",\n        \"std\": 0.06713978887366269,\n        \"min\": 0.00065,\n        \"max\": 0.0956,\n        \"num_unique_values\": 2,\n        \"samples\": [\n          0.0956,\n          0.00065\n        ],\n        \"semantic_type\": \"\",\n        \"description\": \"\"\n      }\n    },\n    {\n      \"column\": \"Speedup_X\",\n      \"properties\": {\n        \"dtype\": \"number\",\n        \"std\": 10.465180361560904,\n        \"min\": 1.02,\n        \"max\": 15.82,\n        \"num_unique_values\": 2,\n        \"samples\": [\n          1.02,\n          15.82\n        ],\n        \"semantic_type\": \"\",\n        \"description\": \"\"\n      }\n    },\n    {\n      \"column\": \"Cache_Size_Bytes\",\n      \"properties\": {\n        \"dtype\": \"number\",\n        \"std\": 709,\n        \"min\": 1301,\n        \"max\": 2304,\n        \"num_unique_values\": 2,\n        \"samples\": [\n          2304,\n          1301\n        ],\n        \"semantic_type\": \"\",\n        \"description\": \"\"\n      }\n    },\n    {\n      \"column\": \"Next_Update_Days\",\n      \"properties\": {\n        \"dtype\": \"number\",\n        \"std\": 47,\n        \"min\": 29,\n        \"max\": 96,\n        \"num_unique_values\": 2,\n        \"samples\": [\n          96,\n          29\n        ],\n        \"semantic_type\": \"\",\n        \"description\": \"\"\n      }\n    }\n  ]\n}"
            }
          },
          "metadata": {},
          "execution_count": 28
        }
      ]
    },
    {
      "cell_type": "code",
      "source": [
        "# Bar chart: Legacy vs CRLX lookup time\n",
        "plt.figure(figsize=(8,5))\n",
        "bar_width = 0.35\n",
        "x = range(len(df_dashboard))\n",
        "\n",
        "plt.bar(x, df_dashboard[\"Legacy_Lookup_Time_ms\"], width=bar_width, label=\"Legacy Lookup\")\n",
        "plt.bar([i + bar_width for i in x], df_dashboard[\"CRLX_Lookup_Time_ms\"], width=bar_width, label=\"CRLX Lookup\")\n",
        "\n",
        "plt.xticks([i + bar_width/2 for i in x], df_dashboard[\"Dataset\"])\n",
        "plt.ylabel(\"Lookup Time (ms)\")\n",
        "plt.title(\"Legacy vs CRLX Lookup Time\")\n",
        "plt.legend()\n",
        "plt.show()\n"
      ],
      "metadata": {
        "colab": {
          "base_uri": "https://localhost:8080/",
          "height": 468
        },
        "id": "RpoV_4kdj7Ra",
        "outputId": "ad224d73-3716-44ae-e3be-a8966ce2f699"
      },
      "execution_count": null,
      "outputs": [
        {
          "output_type": "display_data",
          "data": {
            "text/plain": [
              "<Figure size 800x500 with 1 Axes>"
            ],
            "image/png": "[encoded data removed]"
          },
          "metadata": {}
        }
      ]
    },
    {
      "cell_type": "code",
      "source": [
        "plt.figure(figsize=(6,4))\n",
        "plt.bar(df_dashboard[\"Dataset\"], df_dashboard[\"Speedup_X\"], color=\"green\")\n",
        "plt.ylabel(\"Speedup Factor (X)\")\n",
        "plt.title(\"CRLX Speedup Factor\")\n",
        "plt.show()\n"
      ],
      "metadata": {
        "colab": {
          "base_uri": "https://localhost:8080/",
          "height": 391
        },
        "id": "kwHqCoGzj-2e",
        "outputId": "830c67e1-ead5-4021-8755-efa62ae19fd7"
      },
      "execution_count": null,
      "outputs": [
        {
          "output_type": "display_data",
          "data": {
            "text/plain": [
              "<Figure size 600x400 with 1 Axes>"
            ],
            "image/png": "[encoded data removed]"
          },
          "metadata": {}
        }
      ]
    },
    {
      "cell_type": "code",
      "source": [
        "plt.figure(figsize=(6,4))\n",
        "plt.bar(df_dashboard[\"Dataset\"], df_dashboard[\"Cache_Size_Bytes\"], color=\"orange\")\n",
        "plt.ylabel(\"Cache Size (bytes)\")\n",
        "plt.title(\"CRLX Cache Size Comparison\")\n",
        "plt.show()\n",
        "for idx, row in df_dashboard.iterrows():\n",
        "    print(f\"⚠️ {row['Dataset']} Staleness Window (days until next update): {row['Next_Update_Days']}\")\n"
      ],
      "metadata": {
        "colab": {
          "base_uri": "https://localhost:8080/",
          "height": 426
        },
        "id": "aloot31ekBZf",
        "outputId": "5ffbb063-d680-4b74-845c-9869ef1bf0ae"
      },
      "execution_count": null,
      "outputs": [
        {
          "output_type": "display_data",
          "data": {
            "text/plain": [
              "<Figure size 600x400 with 1 Axes>"
            ],
            "image/png": "[encoded data removed]"
          },
          "metadata": {}
        },
        {
          "output_type": "stream",
          "name": "stdout",
          "text": [
            "⚠️ Synthetic CRL Staleness Window (days until next update): 29\n",
            "⚠️ Real CRL (QuoVadis) Staleness Window (days until next update): 96\n"
          ]
        }
      ]
    }
  ]
}